{
 "cells": [
  {
   "cell_type": "markdown",
   "id": "ecff9694",
   "metadata": {},
   "source": [
    "Noise Complaints reported in New York Citu during different months in 2024."
   ]
  },
  {
   "cell_type": "code",
   "execution_count": null,
   "id": "d7d58ee8",
   "metadata": {
    "vscode": {
     "languageId": "plaintext"
    }
   },
   "outputs": [],
   "source": [
    "import pandas\n",
    "import numpy as np\n",
    "import matplotlib.pyplot as plt\n",
    "import seaborn as sns\n"
   ]
  },
  {
   "cell_type": "code",
   "execution_count": null,
   "id": "500c3bf8",
   "metadata": {
    "vscode": {
     "languageId": "plaintext"
    }
   },
   "outputs": [],
   "source": []
  }
 ],
 "metadata": {
  "language_info": {
   "name": "python"
  }
 },
 "nbformat": 4,
 "nbformat_minor": 5
}
